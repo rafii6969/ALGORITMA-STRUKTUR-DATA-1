{
 "cells": [
  {
   "cell_type": "code",
   "execution_count": 2,
   "metadata": {},
   "outputs": [
    {
     "name": "stdout",
     "output_type": "stream",
     "text": [
      "nilaimu: 80\n",
      "selamat anda disegani\n"
     ]
    }
   ],
   "source": [
    "nilai=int(input(\"nilaimu: \"))\n",
    "if nilai > 70:\n",
    "    print(\"selamat anda disegani\")"
   ]
  },
  {
   "cell_type": "code",
   "execution_count": 3,
   "metadata": {},
   "outputs": [
    {
     "name": "stdout",
     "output_type": "stream",
     "text": [
      "masukan jari jari:11\n",
      "379.94\n",
      "lingkaran ini besar\n"
     ]
    }
   ],
   "source": [
    "jari=int(input(\"masukan jari jari:\"))\n",
    "ll=3.14*jari*jari\n",
    "print (ll)\n",
    "if ll>314:\n",
    "    print(\"lingkaran ini besar\")\n",
    "else:\n",
    "    print(\"lingkaran ini kecil\")"
   ]
  },
  {
   "cell_type": "code",
   "execution_count": 4,
   "metadata": {},
   "outputs": [
    {
     "name": "stdout",
     "output_type": "stream",
     "text": [
      "nomer program[1/2] 1\n",
      "panjang 2\n",
      "lebar20\n",
      "tinggi21\n",
      "volume balok: 840\n"
     ]
    }
   ],
   "source": [
    "\n",
    "def balok():\n",
    "        p=int(input(\"panjang \"))\n",
    "        l=int(input(\"lebar\"))\n",
    "        t=int(input(\"tinggi\"))\n",
    "        volumeb=p*l*t\n",
    "        return volumeb\n",
    "def kubus():\n",
    "        s=int(input(\"sisi \"))\n",
    "        volumeku=s*s*s\n",
    "        return volumeku\n",
    "nomer=int(input(\"nomer program[1/2] \"))\n",
    "if nomer ==1:\n",
    "    print(\"volume balok:\",balok())\n",
    "elif nomer==2:\n",
    "    print(\"volume kubus:\",kubus())\n",
    "else:\n",
    "    print(\"program tidak tersedia\")"
   ]
  },
  {
   "cell_type": "code",
   "execution_count": null,
   "metadata": {},
   "outputs": [],
   "source": []
  }
 ],
 "metadata": {
  "kernelspec": {
   "display_name": "Python 3",
   "language": "python",
   "name": "python3"
  },
  "language_info": {
   "codemirror_mode": {
    "name": "ipython",
    "version": 3
   },
   "file_extension": ".py",
   "mimetype": "text/x-python",
   "name": "python",
   "nbconvert_exporter": "python",
   "pygments_lexer": "ipython3",
   "version": "3.8.3"
  }
 },
 "nbformat": 4,
 "nbformat_minor": 4
}
